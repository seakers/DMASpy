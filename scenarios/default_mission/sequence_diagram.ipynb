{
 "cells": [
  {
   "cell_type": "markdown",
   "metadata": {},
   "source": [
    "# Sequence diagrams\n",
    "\n",
    "This notebook loads state and message logging data from a finalized simulation to plot sequence diagrams showcasing the behavior of agents at an internal and external level. \n",
    "\n",
    "Graphs are generating Mermaid-JS (https://mermaid-js.github.io/)\n",
    "\n",
    "## Testing Script"
   ]
  },
  {
   "cell_type": "code",
   "execution_count": 1,
   "metadata": {},
   "outputs": [
    {
     "data": {
      "text/html": [
       "<img src=\"https://mermaid.ink/img/CiAgICBzZXF1ZW5jZURpYWdyYW07CiAgICAgICAgcGFydGljaXBhbnQgQWxpY2UKICAgICAgICBwYXJ0aWNpcGFudCBCb2IKICAgICAgICBBbGljZS0+PkJvYjogSGkgQm9iCiAgICAgICAgQm9iLT4+QWxpY2U6IEhpIEFsaWNlCiAgICA=\"/>"
      ],
      "text/plain": [
       "<IPython.core.display.Image object>"
      ]
     },
     "metadata": {},
     "output_type": "display_data"
    }
   ],
   "source": [
    "import os\n",
    "import sys\n",
    "\n",
    "directory_path = os.getcwd()\n",
    "cwd = os.path.dirname(os.path.dirname(directory_path))\n",
    "\n",
    "sys.path.append(cwd)\n",
    "\n",
    "import dmas.utils as ut\n",
    "\n",
    "display(ut.diagram_from_ascii(\"\"\"\n",
    "    sequenceDiagram;\n",
    "        participant Alice\n",
    "        participant Bob\n",
    "        Alice->>Bob: Hi Bob\n",
    "        Bob->>Alice: Hi Alice\n",
    "    \"\"\"))"
   ]
  }
 ],
 "metadata": {
  "kernelspec": {
   "display_name": "Python 3.8.13 64-bit ('.dmasenv')",
   "language": "python",
   "name": "python3"
  },
  "language_info": {
   "codemirror_mode": {
    "name": "ipython",
    "version": 3
   },
   "file_extension": ".py",
   "mimetype": "text/x-python",
   "name": "python",
   "nbconvert_exporter": "python",
   "pygments_lexer": "ipython3",
   "version": "3.8.13"
  },
  "orig_nbformat": 4,
  "vscode": {
   "interpreter": {
    "hash": "7a7ebc0c239ede2cb95871f4cbd8ff425db44253fec76df7d5fdac417c033ff3"
   }
  }
 },
 "nbformat": 4,
 "nbformat_minor": 2
}
