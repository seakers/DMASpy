{
 "cells": [
  {
   "cell_type": "markdown",
   "metadata": {},
   "source": [
    "# DMAS Communication Test\n",
    "\n",
    "This script plots the state of a satellite sending a message to another satellite.\n",
    "\n",
    "## Scenario\n",
    "There exists only two agents: two satellites in separate orbits. The satellite makes no measurements and has no capabilities other than station keeping. Their transmitters have a peak data-rate of 1bps and can only send messages of 10bps each. \n",
    "\n",
    "Satellite 1 sends a message while both satellites are visible at time T=[INSERT TIME HERE]s. Snce they are both visible to one and other during the duration of the transmission, this is completed without any problems at time T=[INSERT TIME HERE]s. Satellite 2 then responds later at time T=[INSERT TIME HERE]s, during which the satellites are still in view of one and other. However, the access time is not long enough to maintain a prolonged connection, which causes the transmission to fail. Satellite 2 tries again at T=[INSERT TIME HERE]s, where the access duration is long enough to complete the transmission.\n",
    "\n",
    "## Data Tracking\n"
   ]
  },
  {
   "cell_type": "code",
   "execution_count": 1,
   "metadata": {},
   "outputs": [
    {
     "data": {
      "text/plain": [
       "<module 'dmas.utils.state_plots' from '/mnt/c/Users/AguilarAJ15/Github/DMASpy/dmas/utils/state_plots.py'>"
      ]
     },
     "execution_count": 1,
     "metadata": {},
     "output_type": "execute_result"
    }
   ],
   "source": [
    "import os\n",
    "import sys\n",
    "\n",
    "directory_path = os.getcwd()\n",
    "cwd = os.path.dirname(os.path.dirname(directory_path))\n",
    "sys.path.append(cwd)\n",
    "\n",
    "import dmas.utils.state_plots as pl\n",
    "\n",
    "import importlib\n",
    "importlib.reload(pl)\n",
    "\n",
    "# pl.plot_power_state(directory_path)"
   ]
  }
 ],
 "metadata": {
  "kernelspec": {
   "display_name": "Python 3.8.13 64-bit",
   "language": "python",
   "name": "python3"
  },
  "language_info": {
   "codemirror_mode": {
    "name": "ipython",
    "version": 3
   },
   "file_extension": ".py",
   "mimetype": "text/x-python",
   "name": "python",
   "nbconvert_exporter": "python",
   "pygments_lexer": "ipython3",
   "version": "3.8.13"
  },
  "orig_nbformat": 4,
  "vscode": {
   "interpreter": {
    "hash": "de407fc24ddab8d6ee2f4db2596779e2875f6d4f55f73654345feaafcd590d81"
   }
  }
 },
 "nbformat": 4,
 "nbformat_minor": 2
}
