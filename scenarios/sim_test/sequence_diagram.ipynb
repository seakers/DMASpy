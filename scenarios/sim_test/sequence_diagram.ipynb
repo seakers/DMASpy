{
 "cells": [
  {
   "cell_type": "markdown",
   "metadata": {},
   "source": [
    "# Sequence diagrams\n",
    "\n",
    "This notebook loads state and message logging data from a finalized simulation to plot sequence diagrams showcasing the behavior of agents at an internal and external level. \n",
    "\n",
    "Graphs are generating Mermaid-JS (https://mermaid-js.github.io/)\n",
    "\n",
    "## Testing Script"
   ]
  },
  {
   "cell_type": "code",
   "execution_count": 9,
   "metadata": {},
   "outputs": [
    {
     "ename": "AttributeError",
     "evalue": "module 'dmas.utils' has no attribute 'diagram_from_ascii'",
     "output_type": "error",
     "traceback": [
      "\u001b[0;31m---------------------------------------------------------------------------\u001b[0m",
      "\u001b[0;31mAttributeError\u001b[0m                            Traceback (most recent call last)",
      "Cell \u001b[0;32mIn [9], line 11\u001b[0m\n\u001b[1;32m      7\u001b[0m sys\u001b[38;5;241m.\u001b[39mpath\u001b[38;5;241m.\u001b[39mappend(cwd)\n\u001b[1;32m      9\u001b[0m \u001b[38;5;28;01mimport\u001b[39;00m \u001b[38;5;21;01mdmas\u001b[39;00m\u001b[38;5;21;01m.\u001b[39;00m\u001b[38;5;21;01mutils\u001b[39;00m \u001b[38;5;28;01mas\u001b[39;00m \u001b[38;5;21;01mut\u001b[39;00m\n\u001b[0;32m---> 11\u001b[0m \u001b[43mut\u001b[49m\u001b[38;5;241;43m.\u001b[39;49m\u001b[43mdiagram_from_ascii\u001b[49m(\u001b[38;5;124m\"\u001b[39m\u001b[38;5;124m\"\u001b[39m)\n\u001b[1;32m     13\u001b[0m ut\u001b[38;5;241m.\u001b[39mdiagram_from_ascii(\u001b[38;5;124m\"\"\"\u001b[39m\n\u001b[1;32m     14\u001b[0m \u001b[38;5;124m    sequenceDiagram;\u001b[39m\n\u001b[1;32m     15\u001b[0m \u001b[38;5;124m        participant Alice\u001b[39m\n\u001b[0;32m   (...)\u001b[0m\n\u001b[1;32m     18\u001b[0m \u001b[38;5;124m        Bob->>Alice: Hi Alice\u001b[39m\n\u001b[1;32m     19\u001b[0m \u001b[38;5;124m    \u001b[39m\u001b[38;5;124m\"\"\"\u001b[39m)\n\u001b[1;32m     21\u001b[0m ut\u001b[38;5;241m.\u001b[39mdiagram_from_ascii(\u001b[38;5;124m\"\"\"\u001b[39m\n\u001b[1;32m     22\u001b[0m \u001b[38;5;124m    graph LR;\u001b[39m\n\u001b[1;32m     23\u001b[0m \u001b[38;5;124m        A--> B & C & D;\u001b[39m\n\u001b[0;32m   (...)\u001b[0m\n\u001b[1;32m     27\u001b[0m \u001b[38;5;124m        E--> B & C & D;\u001b[39m\n\u001b[1;32m     28\u001b[0m \u001b[38;5;124m    \u001b[39m\u001b[38;5;124m\"\"\"\u001b[39m)\n",
      "\u001b[0;31mAttributeError\u001b[0m: module 'dmas.utils' has no attribute 'diagram_from_ascii'"
     ]
    }
   ],
   "source": [
    "import os\n",
    "import sys\n",
    "\n",
    "directory_path = os.getcwd()\n",
    "cwd = os.path.dirname(os.path.dirname(directory_path))\n",
    "\n",
    "sys.path.append(cwd)\n",
    "\n",
    "import dmas.utils as ut\n",
    "\n",
    "ut.diagram_from_ascii(\"\")\n",
    "\n",
    "ut.diagram_from_ascii(\"\"\"\n",
    "    sequenceDiagram;\n",
    "        participant Alice\n",
    "        participant Bob\n",
    "        Alice->>Bob: Hi Bob\n",
    "        Bob->>Alice: Hi Alice\n",
    "    \"\"\")\n",
    "\n",
    "ut.diagram_from_ascii(\"\"\"\n",
    "    graph LR;\n",
    "        A--> B & C & D;\n",
    "        B--> A & E;\n",
    "        C--> A & E;\n",
    "        D--> A & E;\n",
    "        E--> B & C & D;\n",
    "    \"\"\")"
   ]
  }
 ],
 "metadata": {
  "kernelspec": {
   "display_name": "Python 3.8.13 64-bit ('.dmasenv')",
   "language": "python",
   "name": "python3"
  },
  "language_info": {
   "codemirror_mode": {
    "name": "ipython",
    "version": 3
   },
   "file_extension": ".py",
   "mimetype": "text/x-python",
   "name": "python",
   "nbconvert_exporter": "python",
   "pygments_lexer": "ipython3",
   "version": "3.8.13"
  },
  "orig_nbformat": 4,
  "vscode": {
   "interpreter": {
    "hash": "7a7ebc0c239ede2cb95871f4cbd8ff425db44253fec76df7d5fdac417c033ff3"
   }
  }
 },
 "nbformat": 4,
 "nbformat_minor": 2
}
