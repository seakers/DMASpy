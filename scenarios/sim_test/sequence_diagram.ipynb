{
 "cells": [
  {
   "cell_type": "markdown",
   "metadata": {},
   "source": [
    "# Sequence diagrams\n",
    "\n",
    "This notebook loads state and message logging data from a finalized simulation to plot sequence diagrams showcasing the behavior of agents at an internal and external level. \n",
    "\n",
    "Graphs are generating Mermaid-JS (https://mermaid-js.github.io/)\n",
    "\n",
    "## Testing Script"
   ]
  },
  {
   "cell_type": "code",
   "execution_count": 4,
   "metadata": {},
   "outputs": [],
   "source": [
    "import os\n",
    "import sys\n",
    "\n",
    "directory_path = os.getcwd()\n",
    "cwd = os.path.dirname(os.path.dirname(directory_path))\n",
    "\n",
    "sys.path.append(cwd)\n",
    "\n",
    "import dmas.utils as ut\n",
    "\n",
    "ut.generate_internal_sequence_diagram('./scenarios/sim_test')\n"
   ]
  }
 ],
 "metadata": {
  "kernelspec": {
   "display_name": "Python 3.8.13",
   "language": "python",
   "name": "python3"
  },
  "language_info": {
   "codemirror_mode": {
    "name": "ipython",
    "version": 3
   },
   "file_extension": ".py",
   "mimetype": "text/x-python",
   "name": "python",
   "nbconvert_exporter": "python",
   "pygments_lexer": "ipython3",
   "version": "3.8.13"
  },
  "orig_nbformat": 4,
  "vscode": {
   "interpreter": {
    "hash": "9bced85e315042c3f8470ce9475dc5fe9cfe7efa95b0ed483ac48b424564d752"
   }
  }
 },
 "nbformat": 4,
 "nbformat_minor": 2
}
