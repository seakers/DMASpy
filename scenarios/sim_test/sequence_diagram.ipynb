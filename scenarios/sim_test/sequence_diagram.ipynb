{
 "cells": [
  {
   "cell_type": "markdown",
   "metadata": {},
   "source": [
    "# Sequence diagrams\n",
    "\n",
    "This notebook loads state and message logging data from a finalized simulation to plot sequence diagrams showcasing the behavior of agents at an internal and external level. \n",
    "\n",
    "Graphs are generating Mermaid-JS (https://mermaid-js.github.io/)\n",
    "\n",
    "## Testing Script"
   ]
  },
  {
   "cell_type": "code",
   "execution_count": 5,
   "metadata": {},
   "outputs": [
    {
     "name": "stdout",
     "output_type": "stream",
     "text": [
      "./scenarios/sim_test/results/Mars1/INTERNAL_MESSAGE.log\n"
     ]
    },
    {
     "ename": "FileNotFoundError",
     "evalue": "[Errno 2] No such file or directory: './scenarios/sim_test/results/Mars1/INTERNAL_MESSAGE.log'",
     "output_type": "error",
     "traceback": [
      "\u001b[0;31m---------------------------------------------------------------------------\u001b[0m",
      "\u001b[0;31mFileNotFoundError\u001b[0m                         Traceback (most recent call last)",
      "Cell \u001b[0;32mIn [5], line 12\u001b[0m\n\u001b[1;32m      9\u001b[0m \u001b[38;5;28;01mimport\u001b[39;00m \u001b[38;5;21;01mdmas\u001b[39;00m\u001b[38;5;21;01m.\u001b[39;00m\u001b[38;5;21;01mutils\u001b[39;00m \u001b[38;5;28;01mas\u001b[39;00m \u001b[38;5;21;01mut\u001b[39;00m\n\u001b[1;32m     11\u001b[0m \u001b[38;5;28mdir\u001b[39m \u001b[38;5;241m=\u001b[39m \u001b[38;5;124m'\u001b[39m\u001b[38;5;124m./scenarios/sim_test/results/Mars1\u001b[39m\u001b[38;5;124m'\u001b[39m\n\u001b[0;32m---> 12\u001b[0m graph \u001b[38;5;241m=\u001b[39m \u001b[43mut\u001b[49m\u001b[38;5;241;43m.\u001b[39;49m\u001b[43mgenerate_internal_sequence_diagram\u001b[49m\u001b[43m(\u001b[49m\u001b[38;5;28;43mdir\u001b[39;49m\u001b[43m)\u001b[49m\n\u001b[1;32m     13\u001b[0m display(graph)\n",
      "File \u001b[0;32m~/Documents/GitHub/DMASpy/dmas/utils.py:379\u001b[0m, in \u001b[0;36mgenerate_internal_sequence_diagram\u001b[0;34m(dir, level)\u001b[0m\n\u001b[1;32m    376\u001b[0m \u001b[39mdef\u001b[39;00m \u001b[39mgenerate_internal_sequence_diagram\u001b[39m(\u001b[39mdir\u001b[39m : \u001b[39mstr\u001b[39m, level:InternalSequenceDiagramLevel \u001b[39m=\u001b[39m InternalSequenceDiagramLevel\u001b[39m.\u001b[39mMODULE):\n\u001b[1;32m    377\u001b[0m     \n\u001b[1;32m    378\u001b[0m     \u001b[39m# load data\u001b[39;00m\n\u001b[0;32m--> 379\u001b[0m     internal_messages \u001b[39m=\u001b[39m load_internal_messages(\u001b[39mdir\u001b[39;49m)\n\u001b[1;32m    380\u001b[0m     actions \u001b[39m=\u001b[39m load_actions(\u001b[39mdir\u001b[39m)\n\u001b[1;32m    382\u001b[0m     \u001b[39m# generate graph from data\u001b[39;00m\n",
      "File \u001b[0;32m~/Documents/GitHub/DMASpy/dmas/utils.py:264\u001b[0m, in \u001b[0;36mload_internal_messages\u001b[0;34m(node_results_dir)\u001b[0m\n\u001b[1;32m    261\u001b[0m contents \u001b[39m=\u001b[39m []\n\u001b[1;32m    263\u001b[0m \u001b[39mprint\u001b[39m(file_dir)\n\u001b[0;32m--> 264\u001b[0m \u001b[39mwith\u001b[39;00m \u001b[39mopen\u001b[39;49m(file_dir, newline\u001b[39m=\u001b[39;49m\u001b[39m'\u001b[39;49m\u001b[39m'\u001b[39;49m) \u001b[39mas\u001b[39;00m csvfile:\n\u001b[1;32m    266\u001b[0m     reader \u001b[39m=\u001b[39m csv\u001b[39m.\u001b[39mreader(csvfile, delimiter\u001b[39m=\u001b[39m\u001b[39m'\u001b[39m\u001b[39m,\u001b[39m\u001b[39m'\u001b[39m, quotechar\u001b[39m=\u001b[39m\u001b[39m'\u001b[39m\u001b[39m|\u001b[39m\u001b[39m'\u001b[39m)\n\u001b[1;32m    268\u001b[0m     \u001b[39mfor\u001b[39;00m row \u001b[39min\u001b[39;00m reader:\n",
      "\u001b[0;31mFileNotFoundError\u001b[0m: [Errno 2] No such file or directory: './scenarios/sim_test/results/Mars1/INTERNAL_MESSAGE.log'"
     ]
    }
   ],
   "source": [
    "import os\n",
    "import sys\n",
    "\n",
    "directory_path = os.getcwd()\n",
    "cwd = os.path.dirname(os.path.dirname(directory_path))\n",
    "\n",
    "sys.path.append(cwd)\n",
    "\n",
    "import dmas.utils as ut\n",
    "\n",
    "dir = cwd + '/scenarios/sim_test/results/Mars1'\n",
    "graph = ut.generate_internal_sequence_diagram(dir)\n",
    "display(graph)\n"
   ]
  }
 ],
 "metadata": {
  "kernelspec": {
   "display_name": "Python 3.8.13 64-bit ('.dmasenv')",
   "language": "python",
   "name": "python3"
  },
  "language_info": {
   "codemirror_mode": {
    "name": "ipython",
    "version": 3
   },
   "file_extension": ".py",
   "mimetype": "text/x-python",
   "name": "python",
   "nbconvert_exporter": "python",
   "pygments_lexer": "ipython3",
   "version": "3.8.13"
  },
  "orig_nbformat": 4,
  "vscode": {
   "interpreter": {
    "hash": "7a7ebc0c239ede2cb95871f4cbd8ff425db44253fec76df7d5fdac417c033ff3"
   }
  }
 },
 "nbformat": 4,
 "nbformat_minor": 2
}
