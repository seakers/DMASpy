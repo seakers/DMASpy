{
 "cells": [
  {
   "cell_type": "code",
   "execution_count": 1,
   "metadata": {},
   "outputs": [
    {
     "name": "stdout",
     "output_type": "stream",
     "text": [
      "original cwd: /mnt/c/Users/aguilaraj15/github/dmaspy/applications/chess3d/scenarios/igarss_2023\n",
      "['', 'mnt', 'c', 'Users', 'aguilaraj15', 'github', 'dmaspy', 'applications', 'chess3d']\n",
      "//mnt/c/Users/aguilaraj15/github/dmaspy/applications/chess3d\n",
      "new cwd: /mnt/c/Users/aguilaraj15/github/dmaspy/applications/chess3d\n"
     ]
    }
   ],
   "source": [
    "import os\n",
    "\n",
    "print('original cwd:', os.getcwd())\n",
    "os.chdir('.')\n",
    "\n",
    "current_dir : str = os.getcwd()\n",
    "current_path : list = current_dir.split('/')\n",
    "\n",
    "if 'chess3d' not in current_path[-1]:\n",
    "    while 'chess3d' not in current_path[-1]:\n",
    "        current_path.pop(-1)\n",
    "\n",
    "    print(current_path)\n",
    "    current_dir = \"\"\n",
    "    for path_element in current_path:\n",
    "        current_dir += f'/{path_element}'\n",
    "    print(current_dir)\n",
    "\n",
    "    os.chdir(current_dir)\n",
    "\n",
    "print('new cwd:', os.getcwd())"
   ]
  },
  {
   "attachments": {},
   "cell_type": "markdown",
   "metadata": {},
   "source": [
    "# IGARSS VISUALIZER"
   ]
  },
  {
   "cell_type": "code",
   "execution_count": 2,
   "metadata": {},
   "outputs": [],
   "source": [
    "\n",
    "%matplotlib inline"
   ]
  },
  {
   "cell_type": "code",
   "execution_count": 4,
   "metadata": {},
   "outputs": [
    {
     "name": "stdout",
     "output_type": "stream",
     "text": [
      "TASK POSITION\n",
      "id, pos, measurements\n",
      "680d3272,[1.0, 0.0, 0.0],['OLI', 'POSEIDON-3BAltimeter']\n",
      "680d4014,[2.0, 0.0, 0.0],['OLI', 'POSEIDON-3BAltimeter']\n",
      "680d4960,[3.0, 0.0, 0.0],['OLI', 'POSEIDON-3BAltimeter']\n"
     ]
    }
   ],
   "source": [
    "from matplotlib import animation\n",
    "from visualizer import plot_2d\n",
    "from IPython.display import HTML\n",
    "\n",
    "# from visualizer import plot_2d\n",
    "scenario_name = \"igarss_2023\"\n",
    "scenario_path = f'./scenarios/{scenario_name}/'\n",
    "results_path = f'{scenario_path}/results/'\n",
    "\n",
    "anim : animation.FuncAnimation = plot_2d(scenario_path, results_path, show_plot = False)\n",
    "HTML(anim.to_jshtml())"
   ]
  },
  {
   "attachments": {},
   "cell_type": "markdown",
   "metadata": {},
   "source": []
  }
 ],
 "metadata": {
  "kernelspec": {
   "display_name": "Python 3",
   "language": "python",
   "name": "python3"
  },
  "language_info": {
   "codemirror_mode": {
    "name": "ipython",
    "version": 3
   },
   "file_extension": ".py",
   "mimetype": "text/x-python",
   "name": "python",
   "nbconvert_exporter": "python",
   "pygments_lexer": "ipython3",
   "version": "3.8.16"
  },
  "orig_nbformat": 4
 },
 "nbformat": 4,
 "nbformat_minor": 2
}
